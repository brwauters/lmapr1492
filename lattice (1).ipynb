{
 "cells": [
  {
   "cell_type": "code",
   "execution_count": 18,
   "metadata": {},
   "outputs": [],
   "source": [
    "from pymatgen.ext.matproj import MPRester\n",
    "import numpy\n",
    "\n",
    "with MPRester(\"GlyakcTTvuJ54zVW\") as m:\n",
    "    results = m.query(\"mp-561619\", ['cif'])[0]"
   ]
  },
  {
   "cell_type": "code",
   "execution_count": 19,
   "metadata": {},
   "outputs": [],
   "source": [
    "a=open(\"local.cif\",'w')\n",
    "b=results.items()\n",
    "for d,w in b:\n",
    "    a.write(str(w))\n",
    "a.close()"
   ]
  },
  {
   "cell_type": "code",
   "execution_count": 20,
   "metadata": {},
   "outputs": [],
   "source": [
    "from pymatgen.io.cif import CifParser\n",
    "parser = CifParser(\"local.cif\")\n",
    "structure = parser.get_structures(True)[0]\n",
    "#les trois premières cases permettent d'obtenir la structure du matériau"
   ]
  },
  {
   "cell_type": "code",
   "execution_count": 21,
   "metadata": {},
   "outputs": [
    {
     "name": "stdout",
     "output_type": "stream",
     "text": [
      "les vecteurs de base du réseau direct :\n"
     ]
    },
    {
     "data": {
      "text/plain": [
       "(array([ 1.83409575,  3.45302259, -0.97212894]),\n",
       " array([ 3.90989412, -0.        , -0.97212893]),\n",
       " array([-0.        , -0.        , -8.34884567]))"
      ]
     },
     "execution_count": 21,
     "metadata": {},
     "output_type": "execute_result"
    }
   ],
   "source": [
    "c=structure.lattice\n",
    "matrice=c.matrix\n",
    "#stock dans des variables les vecteurs de base du réseau direct [d e f]\n",
    "d=matrice[0]\n",
    "e=matrice[1]\n",
    "f=matrice[2]\n",
    "print(\"les vecteurs de base du réseau direct :\")\n",
    "d,e,f"
   ]
  },
  {
   "cell_type": "code",
   "execution_count": 22,
   "metadata": {},
   "outputs": [
    {
     "name": "stdout",
     "output_type": "stream",
     "text": [
      "les vecteurs de base du réseau réciproque :\n"
     ]
    },
    {
     "data": {
      "text/plain": [
       "(array([ 0.        ,  1.81961894, -0.        ]),\n",
       " array([ 1.60699628, -0.85356669, -0.        ]),\n",
       " array([-0.1871166 , -0.11248589, -0.75258132]))"
      ]
     },
     "execution_count": 22,
     "metadata": {},
     "output_type": "execute_result"
    }
   ],
   "source": [
    "g=structure.lattice.reciprocal_lattice\n",
    "matricer=g.matrix\n",
    "#stock dans des variables les vecteurs de base du réseau réciproque [dr er fr]\n",
    "dr=matricer[0]\n",
    "er=matricer[1]\n",
    "fr=matricer[2]\n",
    "#print les vecteurs de base du réseau réciproque\n",
    "print(\"les vecteurs de base du réseau réciproque :\")\n",
    "dr,er,fr"
   ]
  },
  {
   "cell_type": "code",
   "execution_count": 23,
   "metadata": {},
   "outputs": [
    {
     "data": {
      "text/plain": [
       "array([[6.28318531e+00, 0.00000000e+00, 1.11022302e-16],\n",
       "       [0.00000000e+00, 6.28318531e+00, 0.00000000e+00],\n",
       "       [0.00000000e+00, 0.00000000e+00, 6.28318531e+00]])"
      ]
     },
     "execution_count": 23,
     "metadata": {},
     "output_type": "execute_result"
    }
   ],
   "source": [
    "#verification des vecteurs de base\n",
    "numpy.dot(matrice,(matricer.T)) #le produit doit être égal à 2pi*I"
   ]
  },
  {
   "cell_type": "code",
   "execution_count": 24,
   "metadata": {},
   "outputs": [
    {
     "name": "stdout",
     "output_type": "stream",
     "text": [
      "le système cristallin est  trigonal\n",
      "la maille est  rhombohedral\n",
      "le groupe ponctuel est  -3m\n"
     ]
    }
   ],
   "source": [
    "from pymatgen.symmetry.analyzer import SpacegroupAnalyzer\n",
    "\n",
    "k=SpacegroupAnalyzer(SpacegroupAnalyzer(structure).get_primitive_standard_structure())\n",
    "\n",
    "#donne le système cristallin\n",
    "l=k.get_crystal_system()\n",
    "#donne la maille \n",
    "nn = k.get_lattice_type()\n",
    "#donne le groupe ponctuel\n",
    "r=k.get_point_group_symbol()\n",
    "#print (système cristallin, maille, groupe ponctuel)\n",
    "print(\"le système cristallin est \",l)\n",
    "print(\"la maille est \",nn)\n",
    "print(\"le groupe ponctuel est \",r)\n"
   ]
  }
 ],
 "metadata": {
  "kernelspec": {
   "display_name": "Python 3",
   "language": "python",
   "name": "python3"
  },
  "language_info": {
   "codemirror_mode": {
    "name": "ipython",
    "version": 3
   },
   "file_extension": ".py",
   "mimetype": "text/x-python",
   "name": "python",
   "nbconvert_exporter": "python",
   "pygments_lexer": "ipython3",
   "version": "3.6.8"
  }
 },
 "nbformat": 4,
 "nbformat_minor": 2
}
